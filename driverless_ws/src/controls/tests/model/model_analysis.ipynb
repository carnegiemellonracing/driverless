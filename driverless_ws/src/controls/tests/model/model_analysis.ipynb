{
 "cells": [
  {
   "cell_type": "code",
   "execution_count": 1,
   "metadata": {},
   "outputs": [],
   "source": [
    "import subprocess\n",
    "\n",
    "def model(state, action):\n",
    "    result = subprocess.run(\n",
    "        [\"/home/griffin/driverless/driverless_ws/build/controls/model_wrapper\"] + list(map(str, (state + action))),\n",
    "        capture_output=True)\n",
    "    return list(map(float, result.stdout.decode(\"UTF-8\").split(\" \")[:10]))\n",
    "\n",
    "in_dim_names = [\n",
    "    \"x\",\n",
    "    \"y\",\n",
    "    \"yaw\",\n",
    "    \"x_car_dot\",\n",
    "    \"y_car_dot\",\n",
    "    \"yaw_dot\",\n",
    "    \"x_moment\",\n",
    "    \"downforce\",\n",
    "    \"omega_f\",\n",
    "    \"omega_r\",\n",
    "    \"swangle\",\n",
    "    \"torque_f\",\n",
    "    \"torque_r\"\n",
    "]\n",
    "\n",
    "out_dim_names = list(map(lambda x: x + \"_dot\", in_dim_names))"
   ]
  },
  {
   "cell_type": "code",
   "execution_count": 2,
   "metadata": {},
   "outputs": [
    {
     "name": "stdout",
     "output_type": "stream",
     "text": [
      "[1.0, 0.0, 0.0, -11.3482, -0.956411, -3.49554, 0.0, 0.0, 691.881, 791.794]\n"
     ]
    }
   ],
   "source": [
    "print(model([0, 0, 0, 1, 0, 0, 0, 0, 0, 0], [1, 0, 0]))"
   ]
  },
  {
   "cell_type": "code",
   "execution_count": 3,
   "metadata": {},
   "outputs": [],
   "source": [
    "import matplotlib.pyplot as plt\n",
    "import numpy as np\n",
    "from mpl_toolkits.mplot3d import Axes3D\n",
    "from copy import deepcopy\n",
    "\n",
    "%matplotlib qt\n",
    "\n",
    "def plot_surface(indep_idxs, dep_idx, indep_min, indep_max, base):\n",
    "    fig = plt.figure()\n",
    "    ax = fig.add_subplot(111, projection='3d')\n",
    "\n",
    "\n",
    "    def fun(indep1, indep2):\n",
    "        global model\n",
    "        \n",
    "        to_pass = deepcopy(base)\n",
    "        to_pass[indep_idxs[0]] = indep1\n",
    "        to_pass[indep_idxs[1]] = indep2\n",
    "\n",
    "        return model(to_pass[:10], to_pass[-3:])[dep_idx]\n",
    "    \n",
    "    x = np.linspace(indep_min[0], indep_max[0], 10)\n",
    "    y = np.linspace(indep_min[1], indep_max[1], 10)\n",
    "    X, Y = np.meshgrid(x, y)\n",
    "    xr, yr = np.ravel(X), np.ravel(Y)\n",
    "    zs = np.array([fun(x,y) for x, y in zip(xr, yr)])\n",
    "    Z = zs.reshape(X.shape)\n",
    "\n",
    "    ax.plot_surface(X, Y, Z)\n",
    "\n",
    "    ax.set_xlabel(in_dim_names[indep_idxs[0]])\n",
    "    ax.set_ylabel(in_dim_names[indep_idxs[1]])\n",
    "    ax.set_zlabel(out_dim_names[dep_idx])"
   ]
  },
  {
   "cell_type": "code",
   "execution_count": 7,
   "metadata": {},
   "outputs": [],
   "source": [
    "plot_surface([10, 9], 3, [-0.5, 0.5], [0.5, 1.5], [0, 0, 0, 0.2286, 0, 0, 0, 0, 1, 1, 0, 0, 0])\n",
    "plt.show()"
   ]
  },
  {
   "cell_type": "code",
   "execution_count": 9,
   "metadata": {},
   "outputs": [],
   "source": [
    "plot_surface([10, 9], 3, [-0.5, 0.5], [0.5, 1.5], [0, 0, 0, 0.2286, 0.1, 0, 0, 0, 1, 1, 0, 0, 0])\n",
    "plt.show()"
   ]
  },
  {
   "cell_type": "code",
   "execution_count": null,
   "metadata": {},
   "outputs": [],
   "source": []
  }
 ],
 "metadata": {
  "kernelspec": {
   "display_name": "Python 3",
   "language": "python",
   "name": "python3"
  },
  "language_info": {
   "codemirror_mode": {
    "name": "ipython",
    "version": 3
   },
   "file_extension": ".py",
   "mimetype": "text/x-python",
   "name": "python",
   "nbconvert_exporter": "python",
   "pygments_lexer": "ipython3",
   "version": "3.8.10"
  }
 },
 "nbformat": 4,
 "nbformat_minor": 2
}
